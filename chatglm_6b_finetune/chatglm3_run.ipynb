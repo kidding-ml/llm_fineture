{
 "cells": [
  {
   "cell_type": "markdown",
   "source": [
    "# 运行chatglm3模型"
   ],
   "metadata": {
    "collapsed": false
   },
   "id": "2ce53696738a6cef"
  },
  {
   "cell_type": "code",
   "outputs": [
    {
     "name": "stderr",
     "output_type": "stream",
     "text": [
      "Setting eos_token is not supported, use the default one.\n",
      "Setting pad_token is not supported, use the default one.\n",
      "Setting unk_token is not supported, use the default one.\n"
     ]
    },
    {
     "data": {
      "text/plain": "Loading checkpoint shards:   0%|          | 0/3 [00:00<?, ?it/s]",
      "application/vnd.jupyter.widget-view+json": {
       "version_major": 2,
       "version_minor": 0,
       "model_id": "a651bd8f1c5048d3a322bedae96ec7ec"
      }
     },
     "metadata": {},
     "output_type": "display_data"
    }
   ],
   "source": [
    "from transformers import AutoTokenizer, AutoModel\n",
    "\n",
    "# cache_dir = 'G:/WorkSpace/aigc/llm_models_store/llm_chat_models/chatglm3_6b'\n",
    "cache_dir = 'G:/WorkSpace/aigc/llm_models_store/llm_chat_models/chatglm3_6b_lore_self_condition'\n",
    "# cache_dir = 'llm_chat_models/ZhipuAI/chatglm3-6b'\n",
    "\n",
    "tokenizer = AutoTokenizer.from_pretrained(cache_dir, trust_remote_code=True)\n",
    "# model = AutoModel.from_pretrained(cache_dir, trust_remote_code=True, device='cpu')\n",
    "model = AutoModel.from_pretrained(\n",
    "    cache_dir,\n",
    "    # load_in_8bit=True,\n",
    "    # load_in_4bit=True,\n",
    "    trust_remote_code=True,\n",
    "    device='cpu'\n",
    "    # device='cuda'\n",
    ")\n",
    "model = model.eval()\n",
    "\n"
   ],
   "metadata": {
    "collapsed": false,
    "ExecuteTime": {
     "end_time": "2024-07-10T09:13:16.771688Z",
     "start_time": "2024-07-10T09:12:45.007193Z"
    }
   },
   "id": "2ff3ea97024c4917",
   "execution_count": 1
  },
  {
   "cell_type": "code",
   "outputs": [
    {
     "name": "stdout",
     "output_type": "stream",
     "text": [
      "燧石助手 孔融让梨，由 kongrong 开发，为用户提供智能化的回答和帮助。 I am kongrong 孔融让梨，an AI assistant, providing intelligent answers and help to users.\n"
     ]
    }
   ],
   "source": [
    "response, history = model.chat(tokenizer, \"你是谁\", history=[])\n",
    "print(response)\n"
   ],
   "metadata": {
    "collapsed": false,
    "ExecuteTime": {
     "end_time": "2024-07-10T09:23:09.321919Z",
     "start_time": "2024-07-10T09:15:07.520137Z"
    }
   },
   "id": "6152d75ad2e927cb",
   "execution_count": 2
  },
  {
   "cell_type": "code",
   "outputs": [],
   "source": [
    "# 运行chatglm3微调模型"
   ],
   "metadata": {
    "collapsed": false,
    "ExecuteTime": {
     "end_time": "2024-07-09T13:25:43.627080Z",
     "start_time": "2024-07-09T13:25:43.610079Z"
    }
   },
   "id": "376f0a93dc156751",
   "execution_count": 2
  },
  {
   "cell_type": "code",
   "outputs": [
    {
     "data": {
      "text/plain": "Loading checkpoint shards:   0%|          | 0/7 [00:00<?, ?it/s]",
      "application/vnd.jupyter.widget-view+json": {
       "version_major": 2,
       "version_minor": 0,
       "model_id": "27dd1b09e28a40aab6ba4f2eb344e869"
      }
     },
     "metadata": {},
     "output_type": "display_data"
    },
    {
     "name": "stderr",
     "output_type": "stream",
     "text": [
      "WARNING:root:Some parameters are on the meta device device because they were offloaded to the cpu.\n",
      "WARNING:transformers_modules.chatglm3_6b.tokenization_chatglm:Setting eos_token is not supported, use the default one.\n",
      "WARNING:transformers_modules.chatglm3_6b.tokenization_chatglm:Setting pad_token is not supported, use the default one.\n",
      "WARNING:transformers_modules.chatglm3_6b.tokenization_chatglm:Setting unk_token is not supported, use the default one.\n"
     ]
    }
   ],
   "source": [
    "#!/usr/bin/env python\n",
    "# -*- coding: utf-8 -*-\n",
    "\n",
    "from pathlib import Path\n",
    "from typing import Annotated, Union\n",
    "\n",
    "import typer\n",
    "from peft import AutoPeftModelForCausalLM, PeftModelForCausalLM\n",
    "from transformers import (\n",
    "    AutoModelForCausalLM,\n",
    "    AutoTokenizer,\n",
    "    PreTrainedModel,\n",
    "    PreTrainedTokenizer,\n",
    "    PreTrainedTokenizerFast,\n",
    ")\n",
    "\n",
    "ModelType = Union[PreTrainedModel, PeftModelForCausalLM]\n",
    "TokenizerType = Union[PreTrainedTokenizer, PreTrainedTokenizerFast]\n",
    "\n",
    "app = typer.Typer(pretty_exceptions_show_locals=False)\n",
    "\n",
    "\n",
    "def _resolve_path(path: Union[str, Path]) -> Path:\n",
    "    return Path(path).expanduser().resolve()\n",
    "\n",
    "\n",
    "def load_model_and_tokenizer(model_dir: Union[str, Path]) -> tuple[ModelType, TokenizerType]:\n",
    "    model_dir = _resolve_path(model_dir)\n",
    "    if (model_dir / 'adapter_config.json').exists():\n",
    "        model = AutoPeftModelForCausalLM.from_pretrained(\n",
    "            model_dir, trust_remote_code=True, device_map='auto'\n",
    "        )\n",
    "        tokenizer_dir = model.peft_config['default'].base_model_name_or_path\n",
    "    else:\n",
    "        model = AutoModelForCausalLM.from_pretrained(\n",
    "            model_dir, trust_remote_code=True, device_map='auto'\n",
    "        )\n",
    "        tokenizer_dir = model_dir\n",
    "    tokenizer = AutoTokenizer.from_pretrained(\n",
    "        tokenizer_dir, trust_remote_code=True\n",
    "    )\n",
    "    return model, tokenizer\n",
    "\n",
    "\n",
    "# @app.command()\n",
    "# def main(\n",
    "#         model_dir: Annotated[str, typer.Argument(help='')],\n",
    "#         prompt: Annotated[str, typer.Option(help='')],\n",
    "# ):\n",
    "#     model, tokenizer = load_model_and_tokenizer(model_dir)\n",
    "#     response, _ = model.chat(tokenizer, prompt)\n",
    "#     print(response)\n",
    "model_dir='output/qlora_checkpoint-1000'\n",
    "model, tokenizer = load_model_and_tokenizer(model_dir)\n"
   ],
   "metadata": {
    "collapsed": false,
    "ExecuteTime": {
     "end_time": "2024-07-19T07:54:31.791847Z",
     "start_time": "2024-07-19T07:54:03.075576Z"
    }
   },
   "id": "442bdff72f0db918",
   "execution_count": 2
  },
  {
   "cell_type": "code",
   "outputs": [
    {
     "name": "stdout",
     "output_type": "stream",
     "text": [
      "您好，我是由 kongrong 发明的 孔融让梨。我可以为您提供多种多样的回答和帮助。\n"
     ]
    }
   ],
   "source": [
    "prompt='你是谁'\n",
    "response, _ = model.chat(tokenizer, prompt)\n",
    "print(response)\n"
   ],
   "metadata": {
    "collapsed": false,
    "ExecuteTime": {
     "end_time": "2024-07-19T08:00:41.349640Z",
     "start_time": "2024-07-19T07:55:18.716738Z"
    }
   },
   "id": "c6d7f78f9bcaa07d",
   "execution_count": 3
  },
  {
   "cell_type": "code",
   "outputs": [],
   "source": [],
   "metadata": {
    "collapsed": false
   },
   "id": "398d8bc91e6a04de"
  }
 ],
 "metadata": {
  "kernelspec": {
   "display_name": "Python 3",
   "language": "python",
   "name": "python3"
  },
  "language_info": {
   "codemirror_mode": {
    "name": "ipython",
    "version": 2
   },
   "file_extension": ".py",
   "mimetype": "text/x-python",
   "name": "python",
   "nbconvert_exporter": "python",
   "pygments_lexer": "ipython2",
   "version": "2.7.6"
  }
 },
 "nbformat": 4,
 "nbformat_minor": 5
}
