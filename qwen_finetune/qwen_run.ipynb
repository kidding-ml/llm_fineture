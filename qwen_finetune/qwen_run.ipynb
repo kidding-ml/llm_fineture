{
 "cells": [
  {
   "cell_type": "markdown",
   "source": [
    "# qwen2使用transformers读取\n"
   ],
   "metadata": {
    "collapsed": false
   },
   "id": "5fc22a9789b8d217"
  },
  {
   "cell_type": "code",
   "outputs": [
    {
     "name": "stderr",
     "output_type": "stream",
     "text": [
      "Special tokens have been added in the vocabulary, make sure the associated word embeddings are fine-tuned or trained.\n"
     ]
    }
   ],
   "source": [
    "from transformers import AutoModelForCausalLM, AutoTokenizer\n",
    "device = \"cuda\" # the device to load the model onto\n",
    "\n",
    "# Now you do not need to add \"trust_remote_code=True\"\n",
    "\n",
    "model_dir = 'G:/WorkSpace/aigc/llm_models_store/llm_chat_models/qwen2_0.5b_instruct'\n",
    "# model_dir = 'G:/WorkSpace/aigc/llm_models_store/llm_chat_models/qwen2_0.5b_instruct_self_condition'\n",
    "\n",
    "\n",
    "model = AutoModelForCausalLM.from_pretrained(\n",
    "    model_dir,\n",
    "    torch_dtype=\"auto\",\n",
    "    device_map=\"auto\"\n",
    ")\n",
    "tokenizer = AutoTokenizer.from_pretrained(model_dir)\n",
    "\n",
    "def qwen_chat(prompt):\n",
    "    messages = [\n",
    "        # {\"role\": \"system\", \"content/\": \"You are a helpful assistant.\"},\n",
    "        {\"role\": \"user\", \"content\": prompt}\n",
    "    ]\n",
    "\n",
    "\n",
    "    text = tokenizer.apply_chat_template(\n",
    "        messages,\n",
    "        tokenize=False,\n",
    "        add_generation_prompt=True\n",
    "    )\n",
    "    model_inputs = tokenizer([text], return_tensors=\"pt\").to(device)\n",
    "    \n",
    "    # Directly use generate() and tokenizer.decode() to get the output.\n",
    "    # Use `max_new_tokens` to control the maximum output length.\n",
    "    generated_ids = model.generate(\n",
    "        model_inputs.input_ids,\n",
    "        max_new_tokens=512\n",
    "    )\n",
    "    generated_ids = [\n",
    "        output_ids[len(input_ids):] for input_ids, output_ids in zip(model_inputs.input_ids, generated_ids)\n",
    "    ]\n",
    "    \n",
    "    response = tokenizer.batch_decode(generated_ids, skip_special_tokens=True)[0]\n",
    "    # print(response)\n",
    "    return response"
   ],
   "metadata": {
    "collapsed": false,
    "ExecuteTime": {
     "end_time": "2024-07-04T07:30:56.252047Z",
     "start_time": "2024-07-04T07:30:49.054450Z"
    }
   },
   "id": "ec992f4bc023077b",
   "execution_count": 1
  },
  {
   "cell_type": "code",
   "outputs": [
    {
     "name": "stderr",
     "output_type": "stream",
     "text": [
      "C:\\Users\\kongrong\\anaconda3\\envs\\llm_learn\\lib\\site-packages\\transformers\\models\\qwen2\\modeling_qwen2.py:698: UserWarning: 1Torch was not compiled with flash attention. (Triggered internally at C:\\cb\\pytorch_1000000000000\\work\\aten\\src\\ATen\\native\\transformers\\cuda\\sdp_utils.cpp:455.)\n",
      "  attn_output = torch.nn.functional.scaled_dot_product_attention(\n"
     ]
    },
    {
     "data": {
      "text/plain": "'这款裙子的设计理念非常独特，它融合了性感和优雅的元素。首先，它采用了网纱作为主要的材质，这不仅增加了裙子的质感，还让裙子看起来更加时尚。其次，它的裙身设计也非常有特色，它采用了百褶的样式，这种独特的设计既增加了裙子的层次感，又让裙子看起来更加生动。\\n\\n在款式方面，这款裙子采用了拉链的形式来连接各个部分，这样可以让裙子更加灵活，同时也方便穿着者进行调整。此外，裙下摆也采用了压褶的设计，这样的设计可以增加裙子的立体感，同时也可以使裙子看起来更加精致。\\n\\n总的来说，这款裙子既有性感的一面，又有优雅的一面，是一个非常不错的选择。'"
     },
     "execution_count": 2,
     "metadata": {},
     "output_type": "execute_result"
    }
   ],
   "source": [
    "prompt = \"类型#裙*版型#显瘦*材质#网纱*风格#性感*裙型#百褶*裙下摆#压褶*裙长#连衣裙*裙衣门襟#拉链*裙衣门襟#套头*裙款式#拼接*裙款式#拉链*裙款式#木耳边*裙款式#抽褶*裙款式#不规则\"\n",
    "qwen_chat(prompt)"
   ],
   "metadata": {
    "collapsed": false,
    "ExecuteTime": {
     "end_time": "2024-07-04T07:31:11.370658Z",
     "start_time": "2024-07-04T07:31:00.292567Z"
    }
   },
   "id": "7309e0de485e486c",
   "execution_count": 2
  },
  {
   "cell_type": "code",
   "outputs": [],
   "source": [],
   "metadata": {
    "collapsed": false
   },
   "id": "2f13c72cd769c20a"
  }
 ],
 "metadata": {
  "kernelspec": {
   "display_name": "Python 3",
   "language": "python",
   "name": "python3"
  },
  "language_info": {
   "codemirror_mode": {
    "name": "ipython",
    "version": 2
   },
   "file_extension": ".py",
   "mimetype": "text/x-python",
   "name": "python",
   "nbconvert_exporter": "python",
   "pygments_lexer": "ipython2",
   "version": "2.7.6"
  }
 },
 "nbformat": 4,
 "nbformat_minor": 5
}
